{
  "cells": [
    {
      "cell_type": "code",
      "execution_count": null,
      "metadata": {
        "id": "63iI15ObWBt6"
      },
      "outputs": [],
      "source": [
        "import cv2\n",
        "import os\n",
        "import numpy as np\n",
        "import torch\n",
        "import torch.nn as nn\n",
        "from transformers import SwinForImageClassification\n",
        "from torch.optim import Adam\n",
        "from torch.utils.data import DataLoader, TensorDataset\n",
        "from sklearn.metrics import accuracy_score, classification_report, confusion_matrix\n",
        "import torch.nn.functional as F\n",
        "from tensorflow.keras.utils import to_categorical\n",
        "import seaborn as sns\n",
        "import matplotlib.pyplot as plt"
      ]
    },
    {
      "cell_type": "code",
      "execution_count": null,
      "metadata": {
        "colab": {
          "base_uri": "https://localhost:8080/",
          "height": 90
        },
        "id": "VWIFTLluXXWN",
        "outputId": "58244a8b-2d18-4ea4-c788-7514c7a6c5cd"
      },
      "outputs": [
        {
          "output_type": "display_data",
          "data": {
            "text/plain": [
              "<IPython.core.display.HTML object>"
            ],
            "text/html": [
              "\n",
              "     <input type=\"file\" id=\"files-7a1579fc-6ec4-4904-9aa1-3d528173c3c7\" name=\"files[]\" multiple disabled\n",
              "        style=\"border:none\" />\n",
              "     <output id=\"result-7a1579fc-6ec4-4904-9aa1-3d528173c3c7\">\n",
              "      Upload widget is only available when the cell has been executed in the\n",
              "      current browser session. Please rerun this cell to enable.\n",
              "      </output>\n",
              "      <script>// Copyright 2017 Google LLC\n",
              "//\n",
              "// Licensed under the Apache License, Version 2.0 (the \"License\");\n",
              "// you may not use this file except in compliance with the License.\n",
              "// You may obtain a copy of the License at\n",
              "//\n",
              "//      http://www.apache.org/licenses/LICENSE-2.0\n",
              "//\n",
              "// Unless required by applicable law or agreed to in writing, software\n",
              "// distributed under the License is distributed on an \"AS IS\" BASIS,\n",
              "// WITHOUT WARRANTIES OR CONDITIONS OF ANY KIND, either express or implied.\n",
              "// See the License for the specific language governing permissions and\n",
              "// limitations under the License.\n",
              "\n",
              "/**\n",
              " * @fileoverview Helpers for google.colab Python module.\n",
              " */\n",
              "(function(scope) {\n",
              "function span(text, styleAttributes = {}) {\n",
              "  const element = document.createElement('span');\n",
              "  element.textContent = text;\n",
              "  for (const key of Object.keys(styleAttributes)) {\n",
              "    element.style[key] = styleAttributes[key];\n",
              "  }\n",
              "  return element;\n",
              "}\n",
              "\n",
              "// Max number of bytes which will be uploaded at a time.\n",
              "const MAX_PAYLOAD_SIZE = 100 * 1024;\n",
              "\n",
              "function _uploadFiles(inputId, outputId) {\n",
              "  const steps = uploadFilesStep(inputId, outputId);\n",
              "  const outputElement = document.getElementById(outputId);\n",
              "  // Cache steps on the outputElement to make it available for the next call\n",
              "  // to uploadFilesContinue from Python.\n",
              "  outputElement.steps = steps;\n",
              "\n",
              "  return _uploadFilesContinue(outputId);\n",
              "}\n",
              "\n",
              "// This is roughly an async generator (not supported in the browser yet),\n",
              "// where there are multiple asynchronous steps and the Python side is going\n",
              "// to poll for completion of each step.\n",
              "// This uses a Promise to block the python side on completion of each step,\n",
              "// then passes the result of the previous step as the input to the next step.\n",
              "function _uploadFilesContinue(outputId) {\n",
              "  const outputElement = document.getElementById(outputId);\n",
              "  const steps = outputElement.steps;\n",
              "\n",
              "  const next = steps.next(outputElement.lastPromiseValue);\n",
              "  return Promise.resolve(next.value.promise).then((value) => {\n",
              "    // Cache the last promise value to make it available to the next\n",
              "    // step of the generator.\n",
              "    outputElement.lastPromiseValue = value;\n",
              "    return next.value.response;\n",
              "  });\n",
              "}\n",
              "\n",
              "/**\n",
              " * Generator function which is called between each async step of the upload\n",
              " * process.\n",
              " * @param {string} inputId Element ID of the input file picker element.\n",
              " * @param {string} outputId Element ID of the output display.\n",
              " * @return {!Iterable<!Object>} Iterable of next steps.\n",
              " */\n",
              "function* uploadFilesStep(inputId, outputId) {\n",
              "  const inputElement = document.getElementById(inputId);\n",
              "  inputElement.disabled = false;\n",
              "\n",
              "  const outputElement = document.getElementById(outputId);\n",
              "  outputElement.innerHTML = '';\n",
              "\n",
              "  const pickedPromise = new Promise((resolve) => {\n",
              "    inputElement.addEventListener('change', (e) => {\n",
              "      resolve(e.target.files);\n",
              "    });\n",
              "  });\n",
              "\n",
              "  const cancel = document.createElement('button');\n",
              "  inputElement.parentElement.appendChild(cancel);\n",
              "  cancel.textContent = 'Cancel upload';\n",
              "  const cancelPromise = new Promise((resolve) => {\n",
              "    cancel.onclick = () => {\n",
              "      resolve(null);\n",
              "    };\n",
              "  });\n",
              "\n",
              "  // Wait for the user to pick the files.\n",
              "  const files = yield {\n",
              "    promise: Promise.race([pickedPromise, cancelPromise]),\n",
              "    response: {\n",
              "      action: 'starting',\n",
              "    }\n",
              "  };\n",
              "\n",
              "  cancel.remove();\n",
              "\n",
              "  // Disable the input element since further picks are not allowed.\n",
              "  inputElement.disabled = true;\n",
              "\n",
              "  if (!files) {\n",
              "    return {\n",
              "      response: {\n",
              "        action: 'complete',\n",
              "      }\n",
              "    };\n",
              "  }\n",
              "\n",
              "  for (const file of files) {\n",
              "    const li = document.createElement('li');\n",
              "    li.append(span(file.name, {fontWeight: 'bold'}));\n",
              "    li.append(span(\n",
              "        `(${file.type || 'n/a'}) - ${file.size} bytes, ` +\n",
              "        `last modified: ${\n",
              "            file.lastModifiedDate ? file.lastModifiedDate.toLocaleDateString() :\n",
              "                                    'n/a'} - `));\n",
              "    const percent = span('0% done');\n",
              "    li.appendChild(percent);\n",
              "\n",
              "    outputElement.appendChild(li);\n",
              "\n",
              "    const fileDataPromise = new Promise((resolve) => {\n",
              "      const reader = new FileReader();\n",
              "      reader.onload = (e) => {\n",
              "        resolve(e.target.result);\n",
              "      };\n",
              "      reader.readAsArrayBuffer(file);\n",
              "    });\n",
              "    // Wait for the data to be ready.\n",
              "    let fileData = yield {\n",
              "      promise: fileDataPromise,\n",
              "      response: {\n",
              "        action: 'continue',\n",
              "      }\n",
              "    };\n",
              "\n",
              "    // Use a chunked sending to avoid message size limits. See b/62115660.\n",
              "    let position = 0;\n",
              "    do {\n",
              "      const length = Math.min(fileData.byteLength - position, MAX_PAYLOAD_SIZE);\n",
              "      const chunk = new Uint8Array(fileData, position, length);\n",
              "      position += length;\n",
              "\n",
              "      const base64 = btoa(String.fromCharCode.apply(null, chunk));\n",
              "      yield {\n",
              "        response: {\n",
              "          action: 'append',\n",
              "          file: file.name,\n",
              "          data: base64,\n",
              "        },\n",
              "      };\n",
              "\n",
              "      let percentDone = fileData.byteLength === 0 ?\n",
              "          100 :\n",
              "          Math.round((position / fileData.byteLength) * 100);\n",
              "      percent.textContent = `${percentDone}% done`;\n",
              "\n",
              "    } while (position < fileData.byteLength);\n",
              "  }\n",
              "\n",
              "  // All done.\n",
              "  yield {\n",
              "    response: {\n",
              "      action: 'complete',\n",
              "    }\n",
              "  };\n",
              "}\n",
              "\n",
              "scope.google = scope.google || {};\n",
              "scope.google.colab = scope.google.colab || {};\n",
              "scope.google.colab._files = {\n",
              "  _uploadFiles,\n",
              "  _uploadFilesContinue,\n",
              "};\n",
              "})(self);\n",
              "</script> "
            ]
          },
          "metadata": {}
        },
        {
          "output_type": "stream",
          "name": "stdout",
          "text": [
            "Saving kaggle.json to kaggle.json\n"
          ]
        },
        {
          "output_type": "execute_result",
          "data": {
            "text/plain": [
              "{'kaggle.json': b'{\"username\":\"gudurusaicharanreddy\",\"key\":\"0cc096876ead8b2a2048065a91383764\"}'}"
            ]
          },
          "metadata": {},
          "execution_count": 2
        }
      ],
      "source": [
        "from google.colab import files\n",
        "files.upload()  # Upload kaggle.json"
      ]
    },
    {
      "cell_type": "code",
      "execution_count": null,
      "metadata": {
        "id": "1n6iPo8FXnQ4"
      },
      "outputs": [],
      "source": [
        "!mkdir -p ~/.kaggle\n",
        "!mv kaggle.json ~/.kaggle/\n",
        "!chmod 600 ~/.kaggle/kaggle.json  # Set permission to protect the token"
      ]
    },
    {
      "cell_type": "code",
      "execution_count": null,
      "metadata": {
        "colab": {
          "base_uri": "https://localhost:8080/"
        },
        "id": "xjmGSF2EX0dx",
        "outputId": "7b25ce16-d4f9-405e-a5d0-5703b6ca12f1"
      },
      "outputs": [
        {
          "output_type": "stream",
          "name": "stdout",
          "text": [
            "Requirement already satisfied: kaggle in /usr/local/lib/python3.11/dist-packages (1.6.17)\n",
            "Requirement already satisfied: six>=1.10 in /usr/local/lib/python3.11/dist-packages (from kaggle) (1.17.0)\n",
            "Requirement already satisfied: certifi>=2023.7.22 in /usr/local/lib/python3.11/dist-packages (from kaggle) (2025.1.31)\n",
            "Requirement already satisfied: python-dateutil in /usr/local/lib/python3.11/dist-packages (from kaggle) (2.8.2)\n",
            "Requirement already satisfied: requests in /usr/local/lib/python3.11/dist-packages (from kaggle) (2.32.3)\n",
            "Requirement already satisfied: tqdm in /usr/local/lib/python3.11/dist-packages (from kaggle) (4.67.1)\n",
            "Requirement already satisfied: python-slugify in /usr/local/lib/python3.11/dist-packages (from kaggle) (8.0.4)\n",
            "Requirement already satisfied: urllib3 in /usr/local/lib/python3.11/dist-packages (from kaggle) (2.3.0)\n",
            "Requirement already satisfied: bleach in /usr/local/lib/python3.11/dist-packages (from kaggle) (6.2.0)\n",
            "Requirement already satisfied: webencodings in /usr/local/lib/python3.11/dist-packages (from bleach->kaggle) (0.5.1)\n",
            "Requirement already satisfied: text-unidecode>=1.3 in /usr/local/lib/python3.11/dist-packages (from python-slugify->kaggle) (1.3)\n",
            "Requirement already satisfied: charset-normalizer<4,>=2 in /usr/local/lib/python3.11/dist-packages (from requests->kaggle) (3.4.1)\n",
            "Requirement already satisfied: idna<4,>=2.5 in /usr/local/lib/python3.11/dist-packages (from requests->kaggle) (3.10)\n"
          ]
        }
      ],
      "source": [
        "!pip install kaggle"
      ]
    },
    {
      "cell_type": "code",
      "execution_count": null,
      "metadata": {
        "colab": {
          "base_uri": "https://localhost:8080/"
        },
        "id": "oy0EXiSyX8HD",
        "outputId": "75ec5924-95da-473b-a9f7-a5ebb4cb8580"
      },
      "outputs": [
        {
          "output_type": "stream",
          "name": "stdout",
          "text": [
            "Warning: Looks like you're using an outdated API Version, please consider updating (server 1.7.4.2 / client 1.6.17)\n",
            "Dataset URL: https://www.kaggle.com/datasets/hungle3401/faceforensics\n",
            "License(s): DbCL-1.0\n",
            "Downloading faceforensics.zip to /content\n",
            "100% 2.72G/2.73G [00:25<00:00, 88.8MB/s]\n",
            "100% 2.73G/2.73G [00:25<00:00, 117MB/s] \n"
          ]
        }
      ],
      "source": [
        "!kaggle datasets download -d hungle3401/faceforensics"
      ]
    },
    {
      "cell_type": "code",
      "execution_count": null,
      "metadata": {
        "id": "WHA-OnZuYm9q"
      },
      "outputs": [],
      "source": [
        "import zipfile\n",
        "\n",
        "# Assuming the downloaded dataset is in a zip file\n",
        "with zipfile.ZipFile('faceforensics.zip', 'r') as zip_ref:\n",
        "    zip_ref.extractall()"
      ]
    },
    {
      "cell_type": "code",
      "execution_count": null,
      "metadata": {
        "id": "8Zn0N7F1ZUwN"
      },
      "outputs": [],
      "source": [
        "# Define paths to the dataset folders\n",
        "real_video_dir = \"/content/FF++/real\"\n",
        "fake_video_dir = \"/content/FF++/fake\"\n",
        "frame_count = 10  # Number of frames to extract per video"
      ]
    },
    {
      "cell_type": "code",
      "execution_count": null,
      "metadata": {
        "id": "-ljImc6dZxPl"
      },
      "outputs": [],
      "source": [
        "# Step 1: Extract Frames from Videos\n",
        "\n",
        "def extract_frames_from_video(video_path, frame_count):\n",
        "    cap = cv2.VideoCapture(video_path)\n",
        "    frames = []\n",
        "    total_frames = int(cap.get(cv2.CAP_PROP_FRAME_COUNT))\n",
        "    interval = max(1, total_frames // frame_count)  # Prevent division by zero\n",
        "\n",
        "    for i in range(frame_count):\n",
        "        cap.set(cv2.CAP_PROP_POS_FRAMES, i * interval)\n",
        "        ret, frame = cap.read()\n",
        "        if ret:\n",
        "            frame = cv2.resize(frame, (224, 224))\n",
        "            frames.append(frame)\n",
        "    cap.release()\n",
        "    frames = np.array(frames) / 255.0  # Normalize to [0, 1]\n",
        "    return frames"
      ]
    },
    {
      "cell_type": "code",
      "execution_count": null,
      "metadata": {
        "id": "cHIG18K7Z27H"
      },
      "outputs": [],
      "source": [
        "# Step 2: Load Data from FaceForensics++\n",
        "\n",
        "X, y = [], []\n",
        "\n",
        "# Load real videos\n",
        "real_videos_loaded = 0\n",
        "for video_file in os.listdir(real_video_dir):\n",
        "    if real_videos_loaded >= 100:\n",
        "      break\n",
        "    video_path = os.path.join(real_video_dir, video_file)\n",
        "    frames = extract_frames_from_video(video_path, frame_count)\n",
        "    X.append(frames)\n",
        "    y.append(0)  # Label 0 for real videos\n",
        "    real_videos_loaded += 1\n",
        "\n",
        "# Load fake videos\n",
        "fake_videos_loaded = 0\n",
        "for video_file in os.listdir(fake_video_dir):\n",
        "    if fake_videos_loaded >= 100:\n",
        "      break\n",
        "    video_path = os.path.join(fake_video_dir, video_file)\n",
        "    frames = extract_frames_from_video(video_path, frame_count)\n",
        "    X.append(frames)\n",
        "    y.append(1)  # Label 1 for fake videos\n",
        "    fake_videos_loaded += 1\n",
        "\n",
        "X = np.array(X)  # Shape: (num_videos, frame_count, height, width, channels)\n",
        "y = to_categorical(np.array(y))  # Convert labels to one-hot encoding"
      ]
    },
    {
      "cell_type": "code",
      "execution_count": null,
      "metadata": {
        "id": "ONWm3iS4aOSo"
      },
      "outputs": [],
      "source": [
        "# Step 3: Convert Data to PyTorch Tensors and Prepare DataLoader\n",
        "\n",
        "X_tensor = torch.tensor(X, dtype=torch.float32).permute(0, 1, 4, 2, 3)  # Convert to (batch, frames, channels, h, w)\n",
        "y_tensor = torch.tensor(y, dtype=torch.long)\n",
        "\n",
        "dataset = TensorDataset(X_tensor, y_tensor)\n",
        "dataloader = DataLoader(dataset, batch_size=8, shuffle=True)"
      ]
    },
    {
      "cell_type": "code",
      "execution_count": null,
      "metadata": {
        "id": "C-mJdwKNWEzN"
      },
      "outputs": [],
      "source": [
        "class Temporal3DCNN(nn.Module):\n",
        "    def __init__(self):\n",
        "        super(Temporal3DCNN, self).__init__()\n",
        "        self.conv3d_1 = nn.Conv3d(3, 64, kernel_size=(3, 3, 3), stride=1, padding=1)\n",
        "        self.conv3d_2 = nn.Conv3d(64, 128, kernel_size=(3, 3, 3), stride=1, padding=1)\n",
        "        self.conv3d_3 = nn.Conv3d(128, 256, kernel_size=(3, 3, 3), stride=1, padding=1)\n",
        "        self.pool = nn.AdaptiveAvgPool3d((1, 1, 1))\n",
        "        self.fc = nn.Linear(256, 512)\n",
        "\n",
        "    def forward(self, x):\n",
        "        x = F.relu(self.conv3d_1(x))\n",
        "        x = F.relu(self.conv3d_2(x))\n",
        "        x = F.relu(self.conv3d_3(x))\n",
        "        x = self.pool(x)\n",
        "        x = x.view(x.size(0), -1)\n",
        "        x = self.fc(x)\n",
        "        return x"
      ]
    },
    {
      "cell_type": "code",
      "execution_count": null,
      "metadata": {
        "colab": {
          "base_uri": "https://localhost:8080/",
          "height": 275,
          "referenced_widgets": [
            "64e49d5628674f11b93a2afc39c10e58",
            "7a8aacacfd70424aa1556396e13ee2cc",
            "250f43f8b8df41fa9853e9efc1efc5e7",
            "eeaba314a4a6425e9aa8013b67210e4a",
            "e568146cbee84798bce1c4e93ab9ecb5",
            "aff5125a967c499596a7fdbda2ac0916",
            "6b3ab2a9c2b144a2be7fd9d3cd3b5262",
            "ff247657bee14077b6fddc857568043f",
            "c5b9814d53f648118d9e1fc5d52ab610",
            "7e015bcb97b14677b2895b93ac0c2483",
            "2d7cda52f5284ae0885752101dabdb80",
            "b2bf285ad65b48808c9016085947204b",
            "706a7b70c662425eaccd045fc6f322a4",
            "c4a2169538274652958d2680944e9b00",
            "fe51c00611784a938e06ff5423fc484d",
            "36ffe4ef234e4d90b13af7f0481a5e9a",
            "f08bc0a167d145e58f66d892faef4cd0",
            "76f3af111527482e940c8465412fe1c4",
            "e6f18c42a9fd44f48889c6dbeb423e70",
            "4e4e6b37c64d4bc9b6eadcde200e594c",
            "fbcc8b7c997e4e1995942e83a3459750",
            "e30ed2f5b943454fb796295f56ad19d8"
          ]
        },
        "id": "HW0dE0Q9aPl8",
        "outputId": "2daef635-04b8-4387-bec9-f30e1d2c49c4"
      },
      "outputs": [
        {
          "output_type": "stream",
          "name": "stderr",
          "text": [
            "/usr/local/lib/python3.11/dist-packages/huggingface_hub/utils/_auth.py:94: UserWarning: \n",
            "The secret `HF_TOKEN` does not exist in your Colab secrets.\n",
            "To authenticate with the Hugging Face Hub, create a token in your settings tab (https://huggingface.co/settings/tokens), set it as secret in your Google Colab and restart your session.\n",
            "You will be able to reuse this secret in all of your notebooks.\n",
            "Please note that authentication is recommended but still optional to access public models or datasets.\n",
            "  warnings.warn(\n"
          ]
        },
        {
          "output_type": "display_data",
          "data": {
            "text/plain": [
              "config.json:   0%|          | 0.00/71.8k [00:00<?, ?B/s]"
            ],
            "application/vnd.jupyter.widget-view+json": {
              "version_major": 2,
              "version_minor": 0,
              "model_id": "64e49d5628674f11b93a2afc39c10e58"
            }
          },
          "metadata": {}
        },
        {
          "output_type": "display_data",
          "data": {
            "text/plain": [
              "model.safetensors:   0%|          | 0.00/113M [00:00<?, ?B/s]"
            ],
            "application/vnd.jupyter.widget-view+json": {
              "version_major": 2,
              "version_minor": 0,
              "model_id": "b2bf285ad65b48808c9016085947204b"
            }
          },
          "metadata": {}
        },
        {
          "output_type": "stream",
          "name": "stderr",
          "text": [
            "Some weights of SwinForImageClassification were not initialized from the model checkpoint at microsoft/swin-tiny-patch4-window7-224 and are newly initialized because the shapes did not match:\n",
            "- classifier.bias: found shape torch.Size([1000]) in the checkpoint and torch.Size([2]) in the model instantiated\n",
            "- classifier.weight: found shape torch.Size([1000, 768]) in the checkpoint and torch.Size([2, 768]) in the model instantiated\n",
            "You should probably TRAIN this model on a down-stream task to be able to use it for predictions and inference.\n"
          ]
        }
      ],
      "source": [
        "# Step 4: Initialize Swin Transformer Model for FaceForensics++\n",
        "\n",
        "swin = SwinForImageClassification.from_pretrained(\"microsoft/swin-tiny-patch4-window7-224\", num_labels=2, ignore_mismatched_sizes=True)\n",
        "\n",
        "# Freeze initial layers to speed up training\n",
        "for param in swin.parameters():\n",
        "    param.requires_grad = False\n",
        "for param in swin.classifier.parameters():\n",
        "    param.requires_grad = True  # Only train the classifier layer"
      ]
    },
    {
      "cell_type": "code",
      "execution_count": null,
      "metadata": {
        "id": "A4BTT7cBWJ8Z"
      },
      "outputs": [],
      "source": [
        "class FusionModel(nn.Module):\n",
        "    def __init__(self, swin, temporal_cnn):\n",
        "        super(FusionModel, self).__init__()\n",
        "        self.swin = swin\n",
        "        self.temporal_cnn = temporal_cnn\n",
        "        self.fc_fusion = nn.Linear(514, 2)\n",
        "\n",
        "    def forward(self, x):\n",
        "        batch_size, frames, channels, height, width = x.size()\n",
        "\n",
        "        x_swin = x.view(batch_size * frames, channels, height, width)\n",
        "        swin_features = self.swin(x_swin).logits\n",
        "        swin_features = swin_features.view(batch_size, frames, -1)\n",
        "        swin_features = swin_features.mean(dim=1)\n",
        "\n",
        "        x_3d = x.permute(0, 2, 1, 3, 4)\n",
        "        temporal_features = self.temporal_cnn(x_3d)\n",
        "\n",
        "        fused_features = torch.cat((swin_features, temporal_features), dim=1)\n",
        "        output = self.fc_fusion(fused_features)\n",
        "\n",
        "        return output"
      ]
    },
    {
      "cell_type": "code",
      "execution_count": null,
      "metadata": {
        "id": "eVsyN7VQWPVN"
      },
      "outputs": [],
      "source": [
        "temporal_cnn = Temporal3DCNN()\n",
        "fusion_model = FusionModel(swin, temporal_cnn)\n",
        "\n",
        "optimizer = Adam(fusion_model.parameters(), lr=1e-3)\n",
        "num_epochs = 30"
      ]
    },
    {
      "cell_type": "code",
      "execution_count": null,
      "metadata": {
        "colab": {
          "base_uri": "https://localhost:8080/"
        },
        "id": "6XHXI4vSWWXb",
        "outputId": "13ab9e96-8c8d-42ab-b780-9a0240bebe2d"
      },
      "outputs": [
        {
          "output_type": "stream",
          "name": "stdout",
          "text": [
            "Epoch 1/30, Accuracy: 0.42, Loss: 0.7091512966156006\n",
            "Epoch 2/30, Accuracy: 0.5, Loss: 0.694423885345459\n",
            "Epoch 3/30, Accuracy: 0.64, Loss: 0.6855265569686889\n",
            "Epoch 4/30, Accuracy: 0.635, Loss: 0.6701306438446045\n",
            "Epoch 5/30, Accuracy: 0.73, Loss: 0.642466893196106\n",
            "Epoch 6/30, Accuracy: 0.74, Loss: 0.6200598692893982\n",
            "Epoch 7/30, Accuracy: 0.74, Loss: 0.5872719693183899\n",
            "Epoch 8/30, Accuracy: 0.745, Loss: 0.5655012559890747\n",
            "Epoch 9/30, Accuracy: 0.76, Loss: 0.5428056311607361\n",
            "Epoch 10/30, Accuracy: 0.765, Loss: 0.5320087587833404\n",
            "Epoch 11/30, Accuracy: 0.775, Loss: 0.511291229724884\n",
            "Epoch 12/30, Accuracy: 0.765, Loss: 0.48970181941986085\n",
            "Epoch 13/30, Accuracy: 0.785, Loss: 0.4853487503528595\n",
            "Epoch 14/30, Accuracy: 0.805, Loss: 0.46886873841285703\n",
            "Epoch 15/30, Accuracy: 0.79, Loss: 0.46031531870365144\n",
            "Epoch 16/30, Accuracy: 0.805, Loss: 0.44991068601608275\n",
            "Epoch 17/30, Accuracy: 0.78, Loss: 0.4438080948591232\n",
            "Epoch 18/30, Accuracy: 0.815, Loss: 0.436426973938942\n",
            "Epoch 19/30, Accuracy: 0.825, Loss: 0.4236394816637039\n",
            "Epoch 20/30, Accuracy: 0.82, Loss: 0.42859328389167783\n",
            "Epoch 21/30, Accuracy: 0.81, Loss: 0.413376886844635\n",
            "Epoch 22/30, Accuracy: 0.84, Loss: 0.3962735021114349\n",
            "Epoch 23/30, Accuracy: 0.795, Loss: 0.4077580857276917\n",
            "Epoch 24/30, Accuracy: 0.835, Loss: 0.4003207242488861\n",
            "Epoch 25/30, Accuracy: 0.855, Loss: 0.3837976115942001\n",
            "Epoch 26/30, Accuracy: 0.83, Loss: 0.3779851418733597\n",
            "Epoch 27/30, Accuracy: 0.845, Loss: 0.36932740956544874\n",
            "Epoch 28/30, Accuracy: 0.845, Loss: 0.3690907406806946\n",
            "Epoch 29/30, Accuracy: 0.84, Loss: 0.3591808462142944\n",
            "Epoch 30/30, Accuracy: 0.84, Loss: 0.36127508997917174\n"
          ]
        }
      ],
      "source": [
        "for epoch in range(num_epochs):\n",
        "    fusion_model.train()\n",
        "    total_loss, correct_predictions, total_predictions = 0, 0, 0\n",
        "\n",
        "    for batch_X, batch_y in dataloader:\n",
        "        optimizer.zero_grad()\n",
        "        outputs = fusion_model(batch_X)\n",
        "        loss = F.cross_entropy(outputs, batch_y.float())\n",
        "        loss.backward()\n",
        "        optimizer.step()\n",
        "        total_loss += loss.item()\n",
        "\n",
        "        preds = torch.argmax(outputs, dim=1)\n",
        "        correct_predictions += (preds == batch_y.argmax(dim=1)).sum().item()\n",
        "        total_predictions += batch_y.size(0)\n",
        "\n",
        "    print(f\"Epoch {epoch+1}/{num_epochs}, Accuracy: {correct_predictions / total_predictions}, Loss: {total_loss / len(dataloader)}\")"
      ]
    },
    {
      "cell_type": "code",
      "execution_count": null,
      "metadata": {
        "id": "O4tXjijSWak8",
        "colab": {
          "base_uri": "https://localhost:8080/"
        },
        "outputId": "78627121-6203-4db2-a258-d8fa25e57410"
      },
      "outputs": [
        {
          "output_type": "stream",
          "name": "stdout",
          "text": [
            "Accuracy: 0.84\n",
            "Classification Report:\n",
            "               precision    recall  f1-score   support\n",
            "\n",
            "           0       0.89      0.78      0.83       100\n",
            "           1       0.80      0.90      0.85       100\n",
            "\n",
            "    accuracy                           0.84       200\n",
            "   macro avg       0.84      0.84      0.84       200\n",
            "weighted avg       0.84      0.84      0.84       200\n",
            "\n"
          ]
        }
      ],
      "source": [
        "fusion_model.eval()\n",
        "all_preds, all_labels = [], []\n",
        "\n",
        "with torch.no_grad():\n",
        "    for batch_X, batch_y in dataloader:\n",
        "        outputs = fusion_model(batch_X)\n",
        "        preds = torch.argmax(outputs, dim=1)\n",
        "        all_preds.extend(preds.cpu().numpy())\n",
        "        batch_y_single_label = torch.argmax(batch_y, dim=1)  # Convert one-hot to single label\n",
        "        all_labels.extend(batch_y_single_label.cpu().numpy())\n",
        "\n",
        "print(\"Accuracy:\", accuracy_score(all_labels, all_preds))\n",
        "print(\"Classification Report:\\n\", classification_report(all_labels, all_preds))"
      ]
    },
    {
      "cell_type": "code",
      "execution_count": null,
      "metadata": {
        "id": "JMu7mj-elIA7",
        "colab": {
          "base_uri": "https://localhost:8080/",
          "height": 472
        },
        "outputId": "45b12d59-d948-4ab7-d000-7b9e25763f1d"
      },
      "outputs": [
        {
          "output_type": "display_data",
          "data": {
            "text/plain": [
              "<Figure size 640x480 with 2 Axes>"
            ],
            "image/png": "[encoded data removed]"
          },
          "metadata": {}
        }
      ],
      "source": [
        "cm = confusion_matrix(all_labels, all_preds)\n",
        "sns.heatmap(cm, annot=True, fmt=\"d\", cmap=\"Blues\", xticklabels=[\"Real\", \"Fake\"], yticklabels=[\"Real\", \"Fake\"])\n",
        "plt.xlabel(\"Predicted\")\n",
        "plt.ylabel(\"Actual\")\n",
        "plt.title(\"Confusion Matrix\")\n",
        "plt.show()"
      ]
    },
    {
      "cell_type": "code",
      "source": [
        "from sklearn.metrics import roc_curve, auc\n",
        "\n",
        "fpr, tpr, _ = roc_curve(all_labels, all_preds)\n",
        "roc_auc = auc(fpr, tpr)\n",
        "\n",
        "plt.figure(figsize=(8, 6))\n",
        "plt.plot(fpr, tpr, color='blue', lw=2, label=f'ROC curve (AUC = {roc_auc:.2f})')\n",
        "plt.plot([0, 1], [0, 1], color='grey', linestyle='--')  # Diagonal line for reference\n",
        "plt.xlim([0.0, 1.0])\n",
        "plt.ylim([0.0, 1.05])\n",
        "plt.xlabel('False Positive Rate')\n",
        "plt.ylabel('True Positive Rate')\n",
        "plt.title('Receiver Operating Characteristic (ROC) Curve')\n",
        "plt.legend(loc='lower right')\n",
        "plt.grid()\n",
        "plt.show()"
      ],
      "metadata": {
        "colab": {
          "base_uri": "https://localhost:8080/",
          "height": 564
        },
        "id": "Qvt6RE7U6N3l",
        "outputId": "e01ca032-4ef2-4227-eacd-7953e421ee35"
      },
      "execution_count": null,
      "outputs": [
        {
          "output_type": "display_data",
          "data": {
            "text/plain": [
              "<Figure size 800x600 with 1 Axes>"
            ],
            "image/png": "[encoded data removed]"
          },
          "metadata": {}
        }
      ]
    },
    {
      "cell_type": "code",
      "source": [
        "# Save the trained model\n",
        "model_path = \"fusion_model.pth\"\n",
        "torch.save(fusion_model.state_dict(), model_path)"
      ],
      "metadata": {
        "id": "XUb7Yrx2Namu"
      },
      "execution_count": null,
      "outputs": []
    },
    {
      "cell_type": "code",
      "source": [
        "# Download the model to your local system\n",
        "from google.colab import files\n",
        "files.download(model_path)"
      ],
      "metadata": {
        "colab": {
          "base_uri": "https://localhost:8080/",
          "height": 17
        },
        "id": "bZVdUvFYNjPw",
        "outputId": "56e5395c-04ba-46fb-8b9e-ea2e72c4ae10"
      },
      "execution_count": null,
      "outputs": [
        {
          "output_type": "display_data",
          "data": {
            "text/plain": [
              "<IPython.core.display.Javascript object>"
            ],
            "application/javascript": [
              "\n",
              "    async function download(id, filename, size) {\n",
              "      if (!google.colab.kernel.accessAllowed) {\n",
              "        return;\n",
              "      }\n",
              "      const div = document.createElement('div');\n",
              "      const label = document.createElement('label');\n",
              "      label.textContent = `Downloading \"${filename}\": `;\n",
              "      div.appendChild(label);\n",
              "      const progress = document.createElement('progress');\n",
              "      progress.max = size;\n",
              "      div.appendChild(progress);\n",
              "      document.body.appendChild(div);\n",
              "\n",
              "      const buffers = [];\n",
              "      let downloaded = 0;\n",
              "\n",
              "      const channel = await google.colab.kernel.comms.open(id);\n",
              "      // Send a message to notify the kernel that we're ready.\n",
              "      channel.send({})\n",
              "\n",
              "      for await (const message of channel.messages) {\n",
              "        // Send a message to notify the kernel that we're ready.\n",
              "        channel.send({})\n",
              "        if (message.buffers) {\n",
              "          for (const buffer of message.buffers) {\n",
              "            buffers.push(buffer);\n",
              "            downloaded += buffer.byteLength;\n",
              "            progress.value = downloaded;\n",
              "          }\n",
              "        }\n",
              "      }\n",
              "      const blob = new Blob(buffers, {type: 'application/binary'});\n",
              "      const a = document.createElement('a');\n",
              "      a.href = window.URL.createObjectURL(blob);\n",
              "      a.download = filename;\n",
              "      div.appendChild(a);\n",
              "      a.click();\n",
              "      div.remove();\n",
              "    }\n",
              "  "
            ]
          },
          "metadata": {}
        },
        {
          "output_type": "display_data",
          "data": {
            "text/plain": [
              "<IPython.core.display.Javascript object>"
            ],
            "application/javascript": [
              "download(\"download_db09bcdc-71aa-4c8f-a3e2-364c0f33378c\", \"fusion_model.pth\", 115391903)"
            ]
          },
          "metadata": {}
        }
      ]
    }
  ],
  "metadata": {
    "accelerator": "GPU",
    "colab": {
      "gpuType": "L4",
      "machine_shape": "hm",
      "provenance": []
    },
    "kernelspec": {
      "display_name": "Python 3",
      "name": "python3"
    },
    "language_info": {
      "name": "python"
    }
  },
  "nbformat": 4,
  "nbformat_minor": 0
}